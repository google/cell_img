{
  "cells": [
    {
      "cell_type": "code",
      "execution_count": null,
      "metadata": {
        "id": "e2X9XPVnvfMZ"
      },
      "outputs": [],
      "source": [
        "!git clone https://github.com/google/cell_img"
      ]
    },
    {
      "cell_type": "code",
      "execution_count": null,
      "metadata": {
        "id": "vB9scXVyvlMc"
      },
      "outputs": [],
      "source": [
        "!pip install -e cell_img"
      ]
    },
    {
      "cell_type": "code",
      "execution_count": null,
      "metadata": {
        "id": "uWfu0iqDvmas"
      },
      "outputs": [],
      "source": [
        "# Restart the runtime if cell_img was just pip installed or this will fail.\n",
        "from cell_img.image_grid import ts_write_main_lib\n",
        "from cell_img.image_grid import ts_write_main"
      ]
    },
    {
      "cell_type": "code",
      "execution_count": null,
      "metadata": {
        "id": "JFzJfhHDvqHU"
      },
      "outputs": [],
      "source": [
        "import apache_beam as beam\n",
        "from apache_beam.options import pipeline_options\n",
        "from apache_beam.options.pipeline_options import GoogleCloudOptions\n",
        "from apache_beam.runners import DataflowRunner\n",
        "from IPython.core.display import display, HTML"
      ]
    },
    {
      "cell_type": "code",
      "execution_count": null,
      "metadata": {
        "id": "OXuzH7MFvrG8"
      },
      "outputs": [],
      "source": [
        "from google.colab import auth\n",
        "auth.authenticate_user()"
      ]
    },
    {
      "cell_type": "code",
      "execution_count": null,
      "metadata": {
        "id": "SJzHrp_avsrD"
      },
      "outputs": [],
      "source": [
        "tensorstore_path = 'gs://BUCKET/PATH/TO/OUTPUT/TENSORSTORE'\n",
        "create_new_tensorstore = True\n",
        "allow_expansion_of_tensorstore = False\n",
        "override_coord_arrays_path = None\n",
        "image_metadata_path = 'gs://BUCKET/PATH/TO/INPUT/image_metadata.csv'\n",
        "image_path_col = 'image_path'\n",
        "axes = ['Y', 'X', 'stain']\n",
        "x_axis_wrap = ['plate', 'well_col', 'site_col']\n",
        "y_axis_wrap = ['batch', 'well_row', 'site_row']\n",
        "project = 'PROJECT'\n",
        "bucket = 'STAGING_BUCKET'\n",
        "region = 'REGION'\n",
        "\n",
        "options = ts_write_main.get_pipeline_options(project, bucket, region)\n",
        "\n",
        "pipeline_result = ts_write_main_lib.run_write_to_ts_pipeline(\n",
        "  tensorstore_path, create_new_tensorstore, allow_expansion_of_tensorstore,\n",
        "  image_metadata_path, image_path_col, axes, x_axis_wrap, y_axis_wrap,\n",
        "  override_coord_arrays_path, options)\n",
        "\n",
        "url = ('https://console.cloud.google.com/dataflow/jobs/%s/%s?project=%s' %\n",
        "       (pipeline_result._job.location, pipeline_result._job.id,\n",
        "        pipeline_result._job.projectId))\n",
        "print(url)\n",
        "del pipeline_result  # Avoid issues pickling the main session."
      ]
    }
  ],
  "metadata": {
    "colab": {
      "collapsed_sections": [],
      "name": "launch_image_grid_pipeline.ipynb",
      "private_outputs": true,
      "provenance": [
        {
          "file_id": "1nhNKdxWhUMjyYKjvgUI_uKk2UkVJAaRC",
          "timestamp": 1647635951195
        }
      ]
    },
    "kernelspec": {
      "display_name": "Python 3",
      "name": "python3"
    },
    "language_info": {
      "name": "python"
    }
  },
  "nbformat": 4,
  "nbformat_minor": 0
}
