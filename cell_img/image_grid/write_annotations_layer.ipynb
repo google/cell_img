{
  "cells": [
    {
      "cell_type": "markdown",
      "metadata": {
        "id": "7oKnQ5dLL5Kc"
      },
      "source": [
        "Write an annotation layer with rectangular bounding boxes."
      ]
    },
    {
      "cell_type": "code",
      "execution_count": null,
      "metadata": {
        "id": "cb3E3nyfLBL0"
      },
      "outputs": [],
      "source": [
        "!git clone https://github.com/google/cell_img"
      ]
    },
    {
      "cell_type": "code",
      "execution_count": null,
      "metadata": {
        "id": "z4TBEj3tLQpv"
      },
      "outputs": [],
      "source": [
        "!pip install --quiet -e cell_img"
      ]
    },
    {
      "cell_type": "code",
      "execution_count": null,
      "metadata": {
        "id": "2TTfG60bLSh2"
      },
      "outputs": [],
      "source": [
        "# Restart the runtime if cell_img was just pip installed or this will fail.\n",
        "from cell_img.common import data_utils\n",
        "from cell_img.image_grid import annotations_lib"
      ]
    },
    {
      "cell_type": "code",
      "execution_count": null,
      "metadata": {
        "id": "3L5ffG2hLZce"
      },
      "outputs": [],
      "source": [
        "import os\n",
        "from google.colab import auth\n",
        "auth.authenticate_user()"
      ]
    },
    {
      "cell_type": "code",
      "execution_count": null,
      "metadata": {
        "id": "YQ2SU8DDLcxp"
      },
      "outputs": [],
      "source": [
        "tensorstore_path = 'gs://BUCKET/PATH/TO/INPUT/TENSORSTORE'\n",
        "annotations_dir = 'annotations'\n",
        "metadata_path = 'gs://BUCKET/PATH/TO/INPUT/metadata.csv'\n",
        "new_layer_name = 'my_annotations'"
      ]
    },
    {
      "cell_type": "markdown",
      "metadata": {
        "id": "uCDuBSQJMqFC"
      },
      "source": [
        "Make local directory for output."
      ]
    },
    {
      "cell_type": "code",
      "execution_count": null,
      "metadata": {
        "id": "aDkClZwDMnEn"
      },
      "outputs": [],
      "source": [
        "!mkdir {new_layer_name}"
      ]
    },
    {
      "cell_type": "code",
      "execution_count": null,
      "metadata": {
        "id": "E7vmsLIRMJ9X"
      },
      "outputs": [],
      "source": [
        "metadata_df = data_utils.read_csv_from_cloud(metadata_path)\n",
        "annotations_lib.export_annotations(metadata_df, tensorstore_path, new_layer_name)"
      ]
    },
    {
      "cell_type": "markdown",
      "metadata": {
        "id": "LzAt6zsZM7nV"
      },
      "source": [
        "Copy layer to cloud"
      ]
    },
    {
      "cell_type": "code",
      "execution_count": null,
      "metadata": {
        "id": "dhPKFulXM9GO"
      },
      "outputs": [],
      "source": [
        "annotations_path = os.path.join(tensorstore_path, annotations_dir)"
      ]
    },
    {
      "cell_type": "code",
      "execution_count": null,
      "metadata": {
        "id": "SEvu_op6NMjK"
      },
      "outputs": [],
      "source": [
        "!gsutil cp -R {new_layer_name} {annotations_path}"
      ]
    }
  ],
  "metadata": {
    "colab": {
      "collapsed_sections": [],
      "private_outputs": true,
      "provenance": [
        {
          "file_id": "1PCPZGlIRHwA6uN3WYIGNMSpzwh7iiTxJ",
          "timestamp": 1662172627593
        }
      ]
    },
    "kernelspec": {
      "display_name": "Python 3",
      "name": "python3"
    },
    "language_info": {
      "name": "python"
    }
  },
  "nbformat": 4,
  "nbformat_minor": 0
}
