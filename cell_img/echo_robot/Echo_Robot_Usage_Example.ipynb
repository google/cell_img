{
  "cells": [
    {
      "cell_type": "markdown",
      "metadata": {
        "id": "GBDhamy-Ud7l"
      },
      "source": [
        "# Example Usage for Echo Robot \n",
        "\n",
        "The [Echo](https://www.beckman.com/liquid-handlers/echo-650-series) is an acoustic liquid handler, used in biology experiments to move very small amounts of liquid from a source [plate](https://en.wikipedia.org/wiki/Microplate) to a destination plate. In practice, the echo robot is frequently used to pipet potential drugs or other perturbagens to be tested into the experimental plate, diluting the compounds to test them at different strengths. Here, the solvent for dilution is assumed to be DMSO, the common drug solvent, but other solvent can be used. Because position within the plate can affect the experiment results, a typical use case is to randomize the position of each test compound, and to have multiple replicates within the experiment plate.\n",
        "\n",
        "This colab is designed to start from the set of compound concentrations and replicates desired in the experiment and create a randomized plate format and the CSV file to instruct the Echo robot to create that experimental plate.\n",
        "\n",
        "There are two styles of experiment that are supported.\n",
        "1. **Dilution plate** : In this setup, the compounds in the source plate are all assumed to be at the same concentration, and the destination plate creates dilutions of these compounds using DMSO.\n",
        "     * This colab demonstrates this style, using 'build_source_map' and 'create_echo_transfer_list' to set up the echo transfer information.\n",
        "1. **No Dilutions** : In this setup, the source plate is assumed to already contain the exact compounds and concentrations needed for the destination plate. In this setup, it is assumed that the same volume will be used for each well in the destination plate.\n",
        "     * In these cases, the echo is often used to add drug dosage to wells with existing volumes, so a dilution constant is used to convert from the concentrations on the source plate to the final concentration on the destination plate. (For example, if you are transferring 100 nl into a well that already has 49.9 ul, this is a 500-fold dilution, and a compound that should be 0.1 uM on the destination plate would be expected to be at 50 uM on the source plate.)\n",
        "     * This approach is demonstrated in the other example colab, using 'build_source_map_no_dilution' and 'create_echo_transfer_list_no_dilution' functions. (Other colab TBD)\n",
        "1. If neither of these assumptions fit your use case, you will need to write your own echo transfer functions using the functions in the echo_lib as examples.\n",
        "\n",
        "----------\n",
        "\n",
        "This colab will:\n",
        "1. Take in a list of compounds at different concentrations and replicate numbers and create a platemap with wells randomly placed in the plate. \n",
        "1. Use the generated random platemap plus a source plate (provided as input) to create an transfer CSV that can be used by the Echo robot.\n",
        "\n",
        "The colab does some validation along the way and attempts to report common errors, but be sure to spot check the output.\n",
        "\n",
        "This colab lets you define a set of \"groups\" like \"sample\" or \"control\". Each group contains a set of compounds and a set of concentrations for each compound in the group. Each compound/concentration has a number of replicates within the plate.\n",
        "\n",
        "Assumptions:\n",
        "* The concentrations go out to three decimals (i.e. 0.001). \n",
        "* All the compounds within a group should be used at the same set of concentrations, with the same number of replicates per compound/concentration.\n",
        "* Concentrations and volumes are unitless, but should be assumed to be the same unit throughout.\n",
        "\n",
        "To Use This Colab:\n",
        "* Adjust the Assumptions/Constants section to the set of sample wells you want to make.\n",
        "* Run the colab and read all the output and validation!\n",
        "\n",
        "Output:\n",
        "* The platemap in CSV format\n",
        "* The Echo transfer in CSV format\n",
        "\n",
        "\n"
      ]
    },
    {
      "cell_type": "markdown",
      "metadata": {
        "id": "5NgWZQs-cqBP"
      },
      "source": [
        "# Code Setup"
      ]
    },
    {
      "cell_type": "code",
      "execution_count": null,
      "metadata": {
        "id": "e2X9XPVnvfMZ"
      },
      "outputs": [],
      "source": [
        "!git clone https://github.com/google/cell_img"
      ]
    },
    {
      "cell_type": "code",
      "execution_count": null,
      "metadata": {
        "id": "vB9scXVyvlMc"
      },
      "outputs": [],
      "source": [
        "!pip install --quiet -e cell_img"
      ]
    },
    {
      "cell_type": "code",
      "execution_count": null,
      "metadata": {
        "id": "uWfu0iqDvmas"
      },
      "outputs": [],
      "source": [
        "# Restart the runtime if cell_img was just pip installed or this will fail.\n",
        "from cell_img.echo_robot import echo_lib"
      ]
    },
    {
      "cell_type": "code",
      "execution_count": null,
      "metadata": {
        "id": "WkdSE1bSFRKr"
      },
      "outputs": [],
      "source": [
        "import collections\n",
        "\n",
        "import random\n",
        "from copy import copy\n",
        "\n",
        "import pandas as pd\n",
        "import numpy as np\n",
        "import random\n",
        "import six\n",
        "\n",
        "import matplotlib.pyplot as plt\n",
        "from IPython import display\n",
        "\n",
        "# show all the rows and columns for pandas dataframes\n",
        "pd.set_option('display.max_rows', None)\n",
        "pd.set_option('display.max_columns', None)"
      ]
    },
    {
      "cell_type": "code",
      "execution_count": null,
      "metadata": {
        "id": "uFDPch5s3YJ1"
      },
      "outputs": [],
      "source": [
        "# Functions to use df_style to visualize panda dataframes\n",
        "def show_map(well_df, col_to_show='well_type'):\n",
        "  display.display(well_df.pivot(\n",
        "        index='well_row', columns='well_col', values=col_to_show).pipe(\n",
        "            df_style.discrete_colorize))\n",
        "  \n",
        "def show_num_map(well_df, col_to_show='well_type'):\n",
        "  display.display(well_df.pivot(\n",
        "        index='well_row', columns='well_col', values=col_to_show).pipe(\n",
        "            df_style.linear_colorize))"
      ]
    },
    {
      "cell_type": "markdown",
      "metadata": {
        "id": "Bw6gIlPjUvd1"
      },
      "source": [
        "# Assumptions / Constants"
      ]
    },
    {
      "cell_type": "markdown",
      "metadata": {
        "id": "q_P0FZ2IHM3c"
      },
      "source": [
        "## Assumptions / Constants for creating random platemap"
      ]
    },
    {
      "cell_type": "code",
      "execution_count": null,
      "metadata": {
        "id": "Vm4CbnOkdVBi"
      },
      "outputs": [],
      "source": [
        "# First we set up 'groups' of wells, for example 'control' and 'sample'.\n",
        "# Each group will have a set of compounds and a set of concentrations. For\n",
        "# each compound at each concentration, there will be a defined number of\n",
        "# replicate wells to be created.\n",
        "# The group, compound and concentration together define well type, for example:\n",
        "# control|my_drug_1|1 \n",
        "# defines the well type that is a control well, where my_drug_1\n",
        "# is used at concentration 1 uM.\n",
        "# Concentrations must be numbers, not strings.\n",
        "\n",
        "# This dictionary maps which concentrations to use for each group of well\n",
        "# in the output plate. \n",
        "# The string key is the name of the type of the compound, the value to the\n",
        "# right is a list of concentrations for that type.\n",
        "CONCENTRATIONS_PER_GROUP_MAP = {\n",
        "    'control': [1, 0.1, 0.01],\n",
        "    'sample': [10, 1, 0.1, 0.01],\n",
        "}\n",
        "\n",
        "# This dictionary maps which compounds to use for each group of well.\n",
        "# Note that the keys for this map must match the keys for the \n",
        "# CONCENTRATIONS_PER_GROUP_MAP.\n",
        "COMPOUNDS_PER_GROUP_MAP = {\n",
        "    'control': ['blinded_code_1'],\n",
        "    'sample': [\n",
        "      'blinded_code_2',\n",
        "      'blinded_code_3',\n",
        "      'blinded_code_4',\n",
        "      'blinded_code_5',\n",
        "      'blinded_code_6',\n",
        "      'blinded_code_7',\n",
        "      'blinded_code_8',\n",
        "      'blinded_code_9',\n",
        "      'blinded_code_10',\n",
        "      'blinded_code_11',\n",
        "      'blinded_code_12',\n",
        "      'blinded_code_13',\n",
        "      'blinded_code_14',\n",
        "      'blinded_code_15',\n",
        "      'blinded_code_16',\n",
        "      'blinded_code_17',\n",
        "      'blinded_code_18',\n",
        "      'blinded_code_19',\n",
        "      'blinded_code_20',\n",
        "      'blinded_code_21',                \n",
        "    ]\n",
        "}\n",
        "\n",
        "# This the number of replicate wells for each compound at each concentration\n",
        "NUM_REPLICATES_MAP = {\n",
        "    ('control', 1): 10,\n",
        "    ('control', 0.1): 10,\n",
        "    ('control', 0.01): 10,\n",
        "    ('sample', 10): 3,\n",
        "    ('sample', 1): 3,\n",
        "    ('sample', 0.1): 3,\n",
        "    ('sample', 0.01): 3,\n",
        "}\n",
        "\n",
        "# A typical 384 well plate has rows A through P and columns 1 through 24.\n",
        "# However, the wells on the outside of the plate (i.e. those in row A, row P,\n",
        "# column 1, and column 24) often have the largest experimental effects, \n",
        "# likely because of evaporation during the experiment. Often, these wells are\n",
        "# filled with water/DMSO and ignored. The setup below assumes this is true\n",
        "# and does not include the outer wells in the list of those filled by the robot.\n",
        "\n",
        "# If you want a different set of sample wells, you can adjust rows/cols, or\n",
        "# spell them out explicitly in AVAILABLE_WELLS.\n",
        "WELL_ROWS = ['B', 'C', 'D', 'E', 'F', 'G', 'H', \n",
        "             'I', 'J', 'K', 'L', 'M', 'N', 'O']\n",
        "WELL_COLS = [2, 3, 4, 5, 6, 7, 8, 9, 10, 11, 12,\n",
        "            13, 14, 15, 16, 17, 18, 19, 20, 21, 22, 23]\n",
        "AVAILABLE_WELLS = []\n",
        "for row in WELL_ROWS:\n",
        "  for col in WELL_COLS:\n",
        "    AVAILABLE_WELLS.append('%s%s' % (row, format(col, '02d')))\n",
        "\n",
        "\n",
        "# These are any wells that have to be in a specific position on the plate.\n",
        "# The values for each item in the list are:\n",
        "# well_name, group, compound, and concentration.\n",
        "# Every well_name used here should be found in the AVAILABLE_WELLS above.\n",
        "NON_RANDOM_WELLS = [\n",
        "   ('B05', 'my_test_well', 'blinded_code_1', 0.1),\n",
        "]\n",
        "\n",
        "# Sometimes the values defined above to do not fill all the wells avaiable.\n",
        "# For example, the setup may only specify 250 randomized wells and 50\n",
        "# non-random wells, out of an available 308 wells.\n",
        "# In that case, this well specification will be used. \n",
        "# The values align to group name, compound, and concentration.\n",
        "EXTRA_WELL_SPEC = ('dmso_control', 'DMSO', 0.0)\n",
        "# Example if you want to use something other than DMSO for your extra wells,\n",
        "# specific the compound and concentrations, like this:\n",
        "#EXTRA_WELL_SPEC = ('empty_control', 'blinded_code_1', 0.1)\n",
        "\n",
        "# This is the total number of well to be filled by the robot.\n",
        "TOTAL_NUM_AVAILABLE_WELLS = len(AVAILABLE_WELLS)"
      ]
    },
    {
      "cell_type": "code",
      "execution_count": null,
      "metadata": {
        "id": "QnW5XqNBgOUu"
      },
      "outputs": [],
      "source": [
        "# Validate all the constants above\n",
        "echo_lib.validate_platemap_setup(\n",
        "    CONCENTRATIONS_PER_GROUP_MAP, COMPOUNDS_PER_GROUP_MAP, NUM_REPLICATES_MAP, \n",
        "    AVAILABLE_WELLS, NON_RANDOM_WELLS, EXTRA_WELL_SPEC)"
      ]
    },
    {
      "cell_type": "markdown",
      "metadata": {
        "id": "hE6nTTTEHY3o"
      },
      "source": [
        "## Assumptions / Constants for creating Echo transfer plate"
      ]
    },
    {
      "cell_type": "code",
      "execution_count": null,
      "metadata": {
        "id": "-RW04zWxgqSx"
      },
      "outputs": [],
      "source": [
        "# Constants for constructing the Echo destination plate.\n",
        "# The Echo source plate is the pure compounds used as a source by the echo.\n",
        "# The Echo destination plate is the random platemap created above, with the\n",
        "# compound/concentration per well as defined above.\n",
        "# Note that volumes and concentrations are unitless, but assumed to be the\n",
        "# same unit throughout\n",
        "\n",
        "# The echo robot CSV file includes the barcode used for the source and\n",
        "# destination plates.\n",
        "ECHO_SOURCE_BARCODE = 'echo_source_barcode'\n",
        "ECHO_DESTINATION_BARCODE = 'echo_dest_barcode'\n",
        "\n",
        "# We assume we want every well in the Echo destination plate to have the \n",
        "# same volume. \n",
        "TOTAL_VOL_PER_DEST_WELL = 2\n",
        "# For the Echo, if we use the compound from the source plate directly, i.e.\n",
        "# do not add any DMSO to the destination well, this is the concentration of \n",
        "# compound that would result.\n",
        "SOURCE_COMPOUND_CONCENTRATION = 10.\n",
        "\n",
        "# This is the minimum volume that the echo can pipet accurately.\n",
        "# Echo specification says that minimum transfer volume is 2.5 nl.\n",
        "# This example colab is in ul (conversion to nl is at the final step).\n",
        "# If you prefer to do all these volumes in nl, just make sure to use \n",
        "# convert_volume_unit_mulitplier = 1 in the final step to build the echo\n",
        "# transfer CSV.\n",
        "MIN_ECHO_PIPET = 0.00025\n",
        "\n",
        "# So if total volume was 2 ul and the pure compound concentration was 10mM then:\n",
        "# For a well that will ultimately have 10mM drug compound, we transfer \n",
        "# 2 ul of compound and do not top off with DMSO.\n",
        "# For a DMSO well, we add 2 ul of DMSO.\n",
        "# For a well that is 1mM, we'd add 2 ul * (1mM / 10mM) = 0.2 ul of \n",
        "# compound and then top off with enough DMSO to get to 2 ul (ie 1.8 ul)."
      ]
    },
    {
      "cell_type": "code",
      "execution_count": null,
      "metadata": {
        "id": "IfPpqYMEAYsm"
      },
      "outputs": [],
      "source": [
        "# These volumes are the WORKING volume in the source plate. \n",
        "# ** Be sure to take the dead volume of the robot into account when filling\n",
        "# the source plate! ** \n",
        "\n",
        "# We use the string content of a CSV file here so we can avoid reading/writing\n",
        "# files in this example colab. However, reading a CSV would work, replace\n",
        "# this line in the cell below:\n",
        "# source_plate_df = pd.read_csv(six.StringIO(SOURCE_PLATE_CSV_AS_STR))\n",
        "# with code to read from a filesystem, e.g.:\n",
        "# source_plate_df = pd.read_csv('/my/file/path/echo_source.csv')\n",
        "\n",
        "# Notes: \n",
        "# The fsspec library is extremely useful if you are reading from cloud buckets\n",
        "# using colab.\n",
        "# One benefit of having the CSV defined in the colab is that keeping all the \n",
        "# information in one document (i.e. this colab) might make it more \n",
        "# straightforward to make sure you track exactly which source plates were\n",
        "# used with which echo transfer plates in which experiment. In other words,\n",
        "# help out future-you by taking making it easy for current-you to write down\n",
        "# what you did.\n",
        "SOURCE_PLATE_CSV_AS_STR = \"\"\"compound,well,volume\n",
        "blinded_code_1,A01,30\n",
        "blinded_code_2,A02,30\n",
        "blinded_code_3,A03,30\n",
        "blinded_code_4,A04,30\n",
        "blinded_code_5,A05,30\n",
        "blinded_code_6,A06,30\n",
        "blinded_code_7,A07,30\n",
        "blinded_code_8,A08,30\n",
        "blinded_code_9,A09,30\n",
        "blinded_code_10,A10,30\n",
        "blinded_code_11,A11,30\n",
        "blinded_code_12,A12,30\n",
        "blinded_code_13,A13,30\n",
        "blinded_code_14,A14,30\n",
        "blinded_code_15,A15,30\n",
        "blinded_code_16,A16,30\n",
        "blinded_code_17,A17,30\n",
        "blinded_code_18,A18,30\n",
        "blinded_code_19,A19,30\n",
        "blinded_code_20,A20,30\n",
        "blinded_code_21,A21,30\n",
        "DMSO,B01,50\n",
        "DMSO,B02,50\n",
        "DMSO,B03,50\n",
        "DMSO,B04,50\n",
        "DMSO,B05,50\n",
        "DMSO,B06,50\n",
        "DMSO,B07,50\n",
        "DMSO,B08,50\n",
        "DMSO,B09,50\n",
        "DMSO,B10,50\n",
        "DMSO,B11,50\n",
        "DMSO,B12,50\n",
        "DMSO,B13,50\n",
        "DMSO,B14,50\n",
        "DMSO,B15,50\n",
        "DMSO,B16,50\n",
        "DMSO,B17,50\n",
        "\"\"\""
      ]
    },
    {
      "cell_type": "code",
      "execution_count": null,
      "metadata": {
        "id": "Kl3iLLQfIlPE"
      },
      "outputs": [],
      "source": [
        "# Read the CSV string above into a dataframe\n",
        "source_plate_df = pd.read_csv(six.StringIO(SOURCE_PLATE_CSV_AS_STR))"
      ]
    },
    {
      "cell_type": "markdown",
      "metadata": {
        "id": "9OR0DKMmEaOg"
      },
      "source": [
        "# Create Platemap"
      ]
    },
    {
      "cell_type": "code",
      "execution_count": null,
      "metadata": {
        "id": "RCcRGZydkCWo"
      },
      "outputs": [],
      "source": [
        "#@title Build the Dictionary of Wells to Create\n",
        "# Here we turn the requirements defined as constants above into a dictionary\n",
        "# that describes each type of well and how many replicates of that well should\n",
        "# be included in the platemap. \n",
        "wells_to_randomize = echo_lib.build_randomized_rep_dictionary(\n",
        "    num_replicates_map=NUM_REPLICATES_MAP, \n",
        "    total_num_wells=TOTAL_NUM_AVAILABLE_WELLS - len(NON_RANDOM_WELLS),\n",
        "    compounds_per_group_map=COMPOUNDS_PER_GROUP_MAP,\n",
        "    concentrations_per_group_map=CONCENTRATIONS_PER_GROUP_MAP,\n",
        "    extra_well_spec=EXTRA_WELL_SPEC)"
      ]
    },
    {
      "cell_type": "code",
      "execution_count": null,
      "metadata": {
        "id": "A2FZacdW9DN-"
      },
      "outputs": [],
      "source": [
        "#@title Assign Wells into the Platemap\n",
        "# Here we take the set of wells we want to include, and we randomly assign them\n",
        "# into the wells. \n",
        "platemap_df = echo_lib.build_platemap(\n",
        "    wells_to_randomize, NON_RANDOM_WELLS,\n",
        "    AVAILABLE_WELLS)"
      ]
    },
    {
      "cell_type": "code",
      "execution_count": null,
      "metadata": {
        "id": "DGV9vL5xlFby"
      },
      "outputs": [],
      "source": [
        "# Print out all the number of wells per group\n",
        "platemap_df.group.value_counts()"
      ]
    },
    {
      "cell_type": "code",
      "execution_count": null,
      "metadata": {
        "id": "l4EDoMahkYJO"
      },
      "outputs": [],
      "source": [
        "# Validate that the platemap has the columns we expect. This doesn't print all\n",
        "# the columns, but enough to look at them and see that they make sense.\n",
        "# I use \"sample(10)\" here to randomly pull some of the rows from the dataframe so\n",
        "# I can do a spot check.\n",
        "platemap_df.sample(10)"
      ]
    },
    {
      "cell_type": "code",
      "execution_count": null,
      "metadata": {
        "id": "4nPUNFb1YdN-"
      },
      "outputs": [],
      "source": [
        "#@title Spot check: Pick a random type and check it has the right number of replicates.\n",
        "\n",
        "# (A different random sample will be picked each time you run this cell.\n",
        "# Run it multiple times to see different results.)\n",
        "\n",
        "# randomly pick a well type (well type = type + compound + concentration)\n",
        "random_compound_group = random.sample(COMPOUNDS_PER_GROUP_MAP.keys(), 1)[0]\n",
        "random_compound = random.sample(COMPOUNDS_PER_GROUP_MAP[random_compound_group], 1)[0]\n",
        "random_concentration = random.sample(CONCENTRATIONS_PER_GROUP_MAP[random_compound_group], 1)[0]\n",
        "random_well_type = echo_lib.build_well_type(random_compound_group, random_compound, random_concentration)\n",
        "expected_num_replicates = NUM_REPLICATES_MAP[random_compound_group, random_concentration]\n",
        "actual_num_replicates = len(platemap_df.query('well_type == \"%s\"' % random_well_type))\n",
        "\n",
        "# Check that there are the expected number of wells\n",
        "if expected_num_replicates != actual_num_replicates:\n",
        "  print('**ERROR! Expected %d replicates for type %s, but found %d' % (\n",
        "      expected_num_replicates, random_well_type, actual_num_replicates))\n",
        "else:\n",
        "  print('Spot checked \"%s\" and found %d wells, as expected.\\n' % (\n",
        "      random_well_type, actual_num_replicates))\n",
        "\n",
        "# and show the wells \n",
        "platemap_df.query('well_type == \"%s\"' % random_well_type)"
      ]
    },
    {
      "cell_type": "code",
      "execution_count": null,
      "metadata": {
        "id": "i3-HnELI3e0E"
      },
      "outputs": [],
      "source": [
        "#@title Visualize the randomized platemap\n",
        "# Visualize the groups around the platemap\n",
        "show_map(platemap_df, 'group')"
      ]
    },
    {
      "cell_type": "code",
      "execution_count": null,
      "metadata": {
        "id": "NcTYKGD_4uxf"
      },
      "outputs": [],
      "source": [
        "# Visualize the compounds around the platemap\n",
        "show_map(platemap_df, 'compound')"
      ]
    },
    {
      "cell_type": "code",
      "execution_count": null,
      "metadata": {
        "id": "K40stOhY4qr-"
      },
      "outputs": [],
      "source": [
        "# Visualize the concentrations in the randomized platemap\n",
        "show_num_map(platemap_df, 'concentration')"
      ]
    },
    {
      "cell_type": "code",
      "execution_count": null,
      "metadata": {
        "id": "lnhEY4rv42CA"
      },
      "outputs": [],
      "source": [
        "# and, finally, all the different well_types\n",
        "show_map(platemap_df, 'well_type')"
      ]
    },
    {
      "cell_type": "code",
      "execution_count": null,
      "metadata": {
        "id": "tKh0D8EVlfOA"
      },
      "outputs": [],
      "source": [
        "# Prints the CSV in the right format to copy \u0026 paste into a CSV.\n",
        "print(platemap_df.to_csv(index=False))"
      ]
    },
    {
      "cell_type": "markdown",
      "metadata": {
        "id": "SXp33Dc-G1Sh"
      },
      "source": [
        "# Create Echo Transfer CSV"
      ]
    },
    {
      "cell_type": "code",
      "execution_count": null,
      "metadata": {
        "id": "_5ilPnpo0oIg"
      },
      "outputs": [],
      "source": [
        "# The volumes in the source plate are left as global variabless \n",
        "# to make it easy to build multiple destination\n",
        "# plates from a single source plate if you want to add that functionality.\n",
        "volume_used_per_source_well_map = collections.defaultdict(int)\n",
        "volume_used_per_compound_map = collections.defaultdict(int)\n",
        "\n",
        "echo_source_map, volume_remaining_per_source_well_map = echo_lib.build_source_map(source_plate_df)"
      ]
    },
    {
      "cell_type": "code",
      "execution_count": null,
      "metadata": {
        "id": "CfVdHee1EkOU"
      },
      "outputs": [],
      "source": [
        "transfer_list_1, volume_per_dest_well_map_1 = echo_lib.create_echo_transfer_list(\n",
        "              source_plate_barcode=ECHO_SOURCE_BARCODE, \n",
        "              dest_plate_barcode=ECHO_DESTINATION_BARCODE,\n",
        "              source_map=echo_source_map, \n",
        "              well_df=platemap_df,\n",
        "              volume_per_compound_map=volume_used_per_compound_map, \n",
        "              volume_remaining_per_source_well_map=volume_remaining_per_source_well_map, \n",
        "              volume_used_per_source_well_map=volume_used_per_source_well_map,\n",
        "              total_vol_per_dest_well=TOTAL_VOL_PER_DEST_WELL,\n",
        "              source_compound_concentration=SOURCE_COMPOUND_CONCENTRATION, \n",
        "              min_pipet_volume=MIN_ECHO_PIPET)\n",
        "\n",
        "transfer_list_1[:3]"
      ]
    },
    {
      "cell_type": "code",
      "execution_count": null,
      "metadata": {
        "id": "edbG9AOQhjBK"
      },
      "outputs": [],
      "source": [
        "print('The max transfer volume is %.4f ul' % (max([x[4] for x in transfer_list_1])))\n",
        "print('The min transfer volume is %.4f ul' % (min([x[4] for x in transfer_list_1])))"
      ]
    },
    {
      "cell_type": "code",
      "execution_count": null,
      "metadata": {
        "id": "wvbbKk7o7LIc"
      },
      "outputs": [],
      "source": [
        "for k,v in volume_used_per_compound_map.items():\n",
        "  print('%s\\t\\t%.2f' % (k, v))"
      ]
    },
    {
      "cell_type": "code",
      "execution_count": null,
      "metadata": {
        "id": "sEJ60S2yEkOU"
      },
      "outputs": [],
      "source": [
        "print(echo_lib.build_echo_transfer_str(\n",
        "    transfer_list_1, convert_volume_unit_mulitplier=1000))"
      ]
    },
    {
      "cell_type": "code",
      "execution_count": null,
      "metadata": {
        "id": "v6qPIS0n-yjF"
      },
      "outputs": [],
      "source": [
        ""
      ]
    }
  ],
  "metadata": {
    "colab": {
      "collapsed_sections": [],
      "last_runtime": {
        "build_target": "//research/biology/diagnose_a_well:notebook_py3",
        "kind": "shared"
      },
      "name": "Echo Robot Usage Example",
      "private_outputs": true,
      "provenance": [
        {
          "file_id": "1zth2LeXCuByv9lC2sU_QVEQxoNyHAEPP",
          "timestamp": 1649723424287
        },
        {
          "file_id": "18B_Fju6OcylZpjmwHU44-KrAmWWOycSI",
          "timestamp": 1649445142866
        },
        {
          "file_id": "1XJBQQnkHLJyh1whWZI71WSzK0s-8uDLP",
          "timestamp": 1648233421379
        },
        {
          "file_id": "18sdgpf9OriJXLX4hXbWDH7mkxBJYAvtj",
          "timestamp": 1633028300512
        },
        {
          "file_id": "1cauxQ5uwigoDsx8b4Q9j9TxjM1W02V1L",
          "timestamp": 1624036480087
        }
      ],
      "toc_visible": true
    },
    "kernelspec": {
      "display_name": "Python 3",
      "name": "python3"
    },
    "language_info": {
      "name": "python"
    }
  },
  "nbformat": 4,
  "nbformat_minor": 0
}
